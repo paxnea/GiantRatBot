{
 "cells": [
  {
   "cell_type": "code",
   "execution_count": 1,
   "id": "e464adc2-0abc-44ea-8f6f-ec5008e80838",
   "metadata": {},
   "outputs": [],
   "source": [
    "import os\n",
    "import csv\n",
    "import nest_asyncio\n",
    "import asyncio\n",
    "from datetime import datetime, timedelta\n",
    "from telegram import InlineKeyboardButton, InlineKeyboardMarkup, Update\n",
    "from telegram.ext import Application, CommandHandler, CallbackQueryHandler, MessageHandler, filters, CallbackContext\n",
    "\n",
    "# Global Variables\n",
    "TOKEN = \"XXX\"\n",
    "GROUP_CHAT_ID = -XXX"
   ]
  },
  {
   "cell_type": "code",
   "execution_count": 2,
   "id": "13389112-b3d5-4edf-8ddd-2119bac066f9",
   "metadata": {},
   "outputs": [],
   "source": [
    "# File to store availability data\n",
    "CSV_FILE = \"availability.csv\"\n",
    "\n",
    "# Default game time settings\n",
    "DEFAULT_START_TIMES = [\"7:30 PM\", \"7:45 PM\", \"8:00 PM\", \"8:15 PM\", \"8:30 PM\", \"8:45 PM\", \"9:00 PM\", \"9:15 PM\", \"9:30 PM\"]\n",
    "DEFAULT_END_TIMES = [\"8:30 PM\", \"8:45 PM\", \"9:00 PM\", \"9:15 PM\", \"9:30 PM\", \"9:45 PM\", \"10:00 PM\", \"10:15 PM\", \"10:30 PM\"]\n",
    "\n",
    "# Store user selections temporarily\n",
    "user_data = {}"
   ]
  },
  {
   "cell_type": "code",
   "execution_count": 3,
   "id": "4dc72364-35ed-4718-826e-296e6dc0c918",
   "metadata": {},
   "outputs": [],
   "source": [
    "# Start command\n",
    "async def start(update: Update, context: CallbackContext) -> None:\n",
    "    await update.message.reply_text(\n",
    "        \"I'm the Giant Rat Bot that makes all of the rules. 🐀\\nUse /edit to set your schedule.\"\n",
    "    )"
   ]
  },
  {
   "cell_type": "code",
   "execution_count": 4,
   "id": "d11c17b9-8cae-453f-80a2-465d75e0276c",
   "metadata": {},
   "outputs": [],
   "source": [
    "# Free vs Busy button + response\n",
    "async def edit(update: Update, context: CallbackContext) -> None:\n",
    "    keyboard = [\n",
    "        [InlineKeyboardButton(\"FREE\", callback_data=\"status_free\"),\n",
    "         InlineKeyboardButton(\"BUSY\", callback_data=\"status_busy\")]\n",
    "    ]\n",
    "    await update.message.reply_text(\n",
    "        \"What status d'ya wanna set?\", reply_markup=InlineKeyboardMarkup(keyboard)\n",
    "    )\n",
    "\n",
    "async def handle_response(update: Update, context: CallbackContext) -> None:\n",
    "    query = update.callback_query\n",
    "    await query.answer()\n",
    "    user_id = query.from_user.id\n",
    "    username = query.from_user.username or query.from_user.first_name\n",
    "    status = query.data.split(\"_\")[1]\n",
    "    timestamp_date = datetime.now().strftime(\"%Y-%m-%d\")\n",
    "    timestamp_time = datetime.now().strftime(\"%H:%M\")\n",
    "    user_data[user_id] = {\n",
    "        \"username\": username,\n",
    "        \"status\": status,\n",
    "        \"date\": None,\n",
    "        \"start\": None,\n",
    "        \"end\": None,\n",
    "        \"timestamp_date\": timestamp_date,\n",
    "        \"timestamp_time\": timestamp_time\n",
    "    }\n",
    "\n",
    "    if status == \"busy\":\n",
    "        await send_date_selection(query, busy=True)\n",
    "    else:\n",
    "        await send_date_selection(query, busy=False)"
   ]
  },
  {
   "cell_type": "code",
   "execution_count": 5,
   "id": "2edec6d1-0bb1-4422-a80d-c35cc22877e0",
   "metadata": {},
   "outputs": [],
   "source": [
    "# Date selection query + response\n",
    "async def send_date_selection(query, busy=False):\n",
    "    \"\"\"Send inline buttons for date selection.\"\"\"\n",
    "    today = datetime.today().strftime(\"%Y-%m-%d\")\n",
    "    keyboard = []\n",
    "    for i in range(7):  # Show 7 upcoming days\n",
    "        date = datetime.today() + timedelta(days=i)\n",
    "        date_str = date.strftime(\"%Y-%m-%d\")\n",
    "        display_text = date.strftime(\"%b %d (%a)\")\n",
    "        if date_str == today:\n",
    "            display_text = \"TODAY\"\n",
    "        keyboard.append([InlineKeyboardButton(display_text, callback_data=f\"date_{date_str}\")])\n",
    "    \n",
    "    # today = datetime.today()\n",
    "    # keyboard = []\n",
    "    # for i in range(5):  # Show 5 upcoming days\n",
    "    #     date_str = (today + timedelta(days=i)).strftime(\"%Y-%m-%d\")\n",
    "    #     keyboard.append([InlineKeyboardButton(date_str, callback_data=f\"date_{date_str}\")])\n",
    "\n",
    "    if busy:\n",
    "        await query.message.reply_text(\"Which day are you busy?\", reply_markup=InlineKeyboardMarkup(keyboard))\n",
    "    else:\n",
    "        await query.message.reply_text(\"So when do you wanna game?\", reply_markup=InlineKeyboardMarkup(keyboard))\n",
    "\n",
    "async def handle_date_selection(update: Update, context: CallbackContext) -> None:\n",
    "    \"\"\"Handle user's date selection.\"\"\"\n",
    "    query = update.callback_query\n",
    "    await query.answer()\n",
    "    user_id = query.from_user.id\n",
    "    selected_date = query.data.split(\"_\")[1]\n",
    "    user_data[user_id][\"date\"] = selected_date\n",
    "    \n",
    "    # Ask for start time selection\n",
    "    if user_data[user_id][\"status\"] == \"busy\":\n",
    "        await save_availability(user_id, query, busy=True)\n",
    "    else:\n",
    "        await send_time_selection(query, \"start\")"
   ]
  },
  {
   "cell_type": "code",
   "execution_count": 6,
   "id": "223e2125-ef75-4e70-a23d-b5c4055f0115",
   "metadata": {},
   "outputs": [],
   "source": [
    "# Time selection query + response\n",
    "async def send_time_selection(query, time_type):\n",
    "    \"\"\"Send inline buttons for start or end time selection.\"\"\"\n",
    "    times = DEFAULT_START_TIMES if time_type == \"start\" else DEFAULT_END_TIMES\n",
    "    keyboard = [[InlineKeyboardButton(t, callback_data=f\"{time_type}_{t}\")] for t in times]\n",
    "    await query.message.reply_text(\n",
    "        f\"Select {time_type} time:\", reply_markup=InlineKeyboardMarkup(keyboard)\n",
    "    )\n",
    "\n",
    "async def handle_time_selection(update: Update, context: CallbackContext) -> None:\n",
    "    \"\"\"Handle user's time selection.\"\"\"\n",
    "    query = update.callback_query\n",
    "    await query.answer()\n",
    "    user_id = query.from_user.id\n",
    "    time_type, selected_time = query.data.split(\"_\")\n",
    "    user_data[user_id][time_type] = selected_time\n",
    "    \n",
    "    if time_type == \"start\":\n",
    "        await send_time_selection(query, \"end\")\n",
    "    else:\n",
    "        await save_availability(user_id, query)"
   ]
  },
  {
   "cell_type": "code",
   "execution_count": 7,
   "id": "1e1da6ce-16d3-4a18-a580-8b14fe3710d1",
   "metadata": {},
   "outputs": [],
   "source": [
    "# Save full availability response to CSV\n",
    "async def save_availability(user_id, query, busy=False):\n",
    "    data = user_data[user_id]\n",
    "    existing_entries = []\n",
    "    formatted_date = datetime.strptime(data[\"date\"], \"%Y-%m-%d\").strftime(\"%b %d (%a)\")\n",
    "\n",
    "    # Read existing CSV data and filter out old entries for this user and date\n",
    "    if os.path.exists(CSV_FILE):\n",
    "        with open(CSV_FILE, \"r\", newline=\"\") as file:\n",
    "            reader = csv.reader(file)\n",
    "            existing_entries = [row for row in reader if not (row[0] == data[\"username\"] and row[1] == data[\"date\"])]\n",
    "        \n",
    "    # Write the updated data (without old entries) back to CSV\n",
    "    with open(CSV_FILE, \"w\", newline=\"\") as file:\n",
    "        writer = csv.writer(file)\n",
    "        writer.writerows(existing_entries)  # Keep all unchanged entries\n",
    "        writer.writerow([data[\"username\"], data[\"date\"], \"BUSY\" if busy else data[\"start\"], \"BUSY\" if busy else data[\"end\"], data[\"status\"], data[\"timestamp_date\"], data[\"timestamp_time\"]])\n",
    "    \n",
    "    if busy:\n",
    "        await query.message.reply_text(f\"🚫 Marked as busy on {formatted_date}.\")\n",
    "    else:\n",
    "        await query.message.reply_text(f\"✅ Marked as available on {formatted_date} from {data['start']} to {data['end']}.\")\n",
    "        \n",
    "    del user_data[user_id]"
   ]
  },
  {
   "cell_type": "code",
   "execution_count": 8,
   "id": "a1a5d31d-5ad8-4651-9776-c26addf930ba",
   "metadata": {},
   "outputs": [],
   "source": [
    "# Check availbility + ping unresponsive users\n",
    "async def check_availability(update: Update, context: CallbackContext) -> None:\n",
    "    chat_id = GROUP_CHAT_ID\n",
    "    \n",
    "    users_who_replied = set()\n",
    "    all_users = set([user.id for user in await context.bot.get_chat_administrators(update.message.chat_id)])\n",
    "    \n",
    "    with open(CSV_FILE, \"r\") as file:\n",
    "        reader = csv.reader(file)\n",
    "        for row in reader:\n",
    "            users_who_replied.add(row[0])\n",
    "    \n",
    "    silent_users = all_users - users_who_replied\n",
    "    if silent_users:\n",
    "        for user in silent_users:\n",
    "            await context.bot.send_message(chat_id=update.message.chat_id, text=f\"🐀: Hey @{user}, you wanna game or what? Submit your availability for tonight before it's too late!\")"
   ]
  },
  {
   "cell_type": "code",
   "execution_count": 9,
   "id": "47fbc66e-c68d-468b-bfb2-9f1826b18ede",
   "metadata": {},
   "outputs": [],
   "source": [
    "# Send final availbility\n",
    "async def finalize_game_plan(update: Update, context: CallbackContext) -> None:\n",
    "    \"\"\"Send final game plan summary.\"\"\"\n",
    "    if not os.path.exists(CSV_FILE) or os.stat(CSV_FILE).st_size == 0:\n",
    "        await context.bot.send_message(update.message.chat_id, \"📭 No availability data yet! Use /edit to set your schedule.\")\n",
    "        return\n",
    "        \n",
    "    availability = {}\n",
    "    with open(CSV_FILE, \"r\") as file:\n",
    "        reader = csv.reader(file)\n",
    "        for row in reader:\n",
    "            date, start, end, status = row[1:]\n",
    "            if status == \"free\":\n",
    "                availability.setdefault(date, []).append(row[0], start)\n",
    "    \n",
    "    today = datetime.today().strftime(\"%Y-%m-%d\")\n",
    "    if today in availability and len(availability[today]) >= 3:\n",
    "        await context.bot.send_message(update.message.chat_id, f\"🎮 Game Night Confirmed!\\n{len(availability[today])} rats: {players_list}\\n🕗 Start Time: {start_time}.\")\n",
    "    else:\n",
    "        await context.bot.send_message(update.message.chat_id, \"❌ Not enough players for tonight. Looks like yer all on yer own.\")"
   ]
  },
  {
   "cell_type": "code",
   "execution_count": 10,
   "id": "aac9a2e9-3b5b-4380-b168-217df34f7f50",
   "metadata": {},
   "outputs": [],
   "source": [
    "# async def get_chat_id(update: Update, context: CallbackContext) -> None:\n",
    "#     \"\"\"Sends the chat ID when the /chatid command is used.\"\"\"\n",
    "#     chat_id = update.message.chat_id\n",
    "#     await update.message.reply_text(f\"Chat ID: {chat_id}\")"
   ]
  },
  {
   "cell_type": "code",
   "execution_count": 11,
   "id": "643d81a9-b086-4f28-86da-3a40c98887b7",
   "metadata": {},
   "outputs": [],
   "source": [
    "# Bot setup\n",
    "async def main():\n",
    "    nest_asyncio.apply()  # Allows async loops inside Jupyter\n",
    "    application = Application.builder().token(TOKEN).build()\n",
    "\n",
    "    application.add_handler(CommandHandler(\"start\", start))\n",
    "    application.add_handler(CommandHandler(\"edit\", edit))\n",
    "    application.add_handler(CommandHandler(\"finalize\", finalize_game_plan))\n",
    "    application.add_handler(CallbackQueryHandler(handle_response, pattern=\"^status_\"))\n",
    "    application.add_handler(CallbackQueryHandler(handle_date_selection, pattern=\"^date_\"))\n",
    "    application.add_handler(CallbackQueryHandler(handle_time_selection, pattern=\"^(start|end)_\"))\n",
    "\n",
    "    await application.run_polling()"
   ]
  },
  {
   "cell_type": "code",
   "execution_count": 12,
   "id": "ed07014e-a10a-4049-89d1-9aa8a06b013a",
   "metadata": {},
   "outputs": [
    {
     "data": {
      "text/plain": [
       "<Task pending name='Task-5' coro=<main() running at /var/folders/q0/f11k0by57hz_fs299ptxjl2w0000gn/T/ipykernel_25082/985870611.py:2>>"
      ]
     },
     "execution_count": 12,
     "metadata": {},
     "output_type": "execute_result"
    }
   ],
   "source": [
    "asyncio.create_task(main())"
   ]
  }
 ],
 "metadata": {
  "kernelspec": {
   "display_name": "Python 3 (ipykernel)",
   "language": "python",
   "name": "python3"
  },
  "language_info": {
   "codemirror_mode": {
    "name": "ipython",
    "version": 3
   },
   "file_extension": ".py",
   "mimetype": "text/x-python",
   "name": "python",
   "nbconvert_exporter": "python",
   "pygments_lexer": "ipython3",
   "version": "3.11.5"
  }
 },
 "nbformat": 4,
 "nbformat_minor": 5
}
